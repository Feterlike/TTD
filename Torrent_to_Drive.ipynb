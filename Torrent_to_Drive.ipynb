{
 "cells": [
  {
   "cell_type": "markdown",
   "metadata": {},
   "source": [
    "# Download Torrents Directly to Google Drive\n",
    "\n",
    "This notebook allows you to download a file from a magnet link directly to your Google Drive using Google Colab's servers.\n",
    "\n",
    "### Instructions:\n",
    "1.  **Paste your magnet link** into the `magnet_link` field below.\n",
    "2.  (Optional) Change the `save_path` if you want to save the files to a different folder in your Google Drive.\n",
    "3.  Click the **Play button** (▶️) to run the cell.\n",
    "4.  Follow the link to **authorize Google Drive** access and paste the code back.\n",
    "5.  Wait for the download to complete."
   ]
  },
  {
   "cell_type": "code",
   "execution_count": null,
   "metadata": {
    "colab": {
     "forms": {
      "magnet_link": "magnet:?xt=urn:btih:...",
      "save_path": "/content/drive/MyDrive/TorrentDownloads/"
     }
    }
   },
   "outputs": [],
   "source": [
    "#@title Download Torrent to Google Drive\n",
    "#@markdown --- \n",
    "#@markdown ### 1. Connect to Google Drive\n",
    "#@markdown This will mount your Google Drive to the Colab environment.\n",
    "from google.colab import drive\n",
    "drive.mount('/content/drive')\n",
    "\n",
    "#@markdown ### 2. Install Required Library\n",
    "#@markdown This installs the `libtorrent` library for handling torrents.\n",
    "!pip install -q libtorrent\n",
    "\n",
    "#@markdown ---\n",
    "#@markdown ### 3. Start Download\n",
    "#@markdown Paste your magnet link below and run the cell.\n",
    "magnet_link = \"\" #@param {type:\"string\"}\n",
    "#@markdown The path in your Google Drive where files will be saved:\n",
    "save_path = \"/content/drive/MyDrive/TorrentDownloads/\" #@param {type:\"string\"}\n",
    "\n",
    "import libtorrent as lt\n",
    "import time\n",
    "import os\n",
    "\n",
    "# Create the save directory if it doesn't exist\n",
    "if not os.path.exists(save_path):\n",
    "    os.makedirs(save_path)\n",
    "\n",
    "# Start the torrent session\n",
    "ses = lt.session({'listen_interfaces': '0.0.0.0:6881'})\n",
    "\n",
    "# Parse the magnet link and set the save path\n",
    "params = lt.parse_magnet_uri(magnet_link)\n",
    "params.save_path = save_path\n",
    "h = ses.add_torrent(params)\n",
    "\n",
    "print(\"Fetching torrent metadata...\")\n",
    "while not h.has_metadata():\n",
    "    time.sleep(1)\n",
    "\n",
    "print(f\"Starting download for: {h.status().name}\")\n",
    "\n",
    "# List of possible torrent states\n",
    "state_str = [\n",
    "    'queued', 'checking', 'downloading metadata', 'downloading',\n",
    "    'finished', 'seeding', 'allocating', 'checking resume data'\n",
    "]\n",
    "\n",
    "try:\n",
    "    while h.status().state != lt.torrent_status.seeding:\n",
    "        s = h.status()\n",
    "        \n",
    "        # Safely get the current state string\n",
    "        current_state = \"unknown\"\n",
    "        if s.state < len(state_str):\n",
    "            current_state = state_str[s.state]\n",
    "        \n",
    "        print('\\r%.2f%% complete (down: %.1f kB/s up: %.1f kB/s peers: %d) %s' % \\\n",
    "                (s.progress * 100, s.download_rate / 1000, s.upload_rate / 1000, \\\n",
    "                s.num_peers, current_state), end=' ')\n",
    "        \n",
    "        time.sleep(1)\n",
    "\n",
    "        # Break the loop if download is finished to avoid endless seeding\n",
    "        if s.state == lt.torrent_status.finished:\n",
    "            print(\"\\nDownload finished. Entering seeding mode briefly...\")\n",
    "            break\n",
    "\n",
    "except KeyboardInterrupt:\n",
    "    print(\"\\nOperation stopped by user.\")\n",
    "\n",
    "print(f\"\\n\\nDownload Complete!\")\n",
    "print(f\"Files are saved in your Google Drive at:\")\n",
    "print(save_path)"
   ]
  }
 ],
 "metadata": {
  "colab": {
   "provenance": []
  },
  "kernelspec": {
   "display_name": "Python 3",
   "name": "python3"
  },
  "language_info": {
   "name": "python"
  }
 },
 "nbformat": 4,
 "nbformat_minor": 0
}
